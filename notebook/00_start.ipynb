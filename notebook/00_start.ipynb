{
 "cells": [
  {
   "cell_type": "markdown",
   "metadata": {},
   "source": [
    "<style> p,ul { max-width: 500px; } </style>\n",
    "\n",
    "# Zig\n",
    "\n",
    "I've heard this is supposed to be one of the C/C++ alternatives.\n",
    "\n",
    "But other than that I don't know a whole lot about Zig.\n",
    "\n",
    "The only project I've ever had to compile for Zig was the Ly login manager.\n",
    "\n",
    "It's a modern language with a [homepage](https://ziglang.org/) that provides the advantages, documentation, downloads, etc.\n",
    "\n",
    "What they're offering:\n",
    " * Simplicity\n",
    "    - This seems to be about what features are *left out*, which can be important. \n",
    "    - Claims to lack macros and complicated flow control.\n",
    "    - Those things make C/C++ code unreadable, but is it a necessary evil?\n",
    "\n",
    " * Comptime\n",
    "    - I don't really understand what they're on about here... does the code help out in being it's own tooling?\n",
    " * C/C++ Compatibility\n",
    "    - Seems to be saying Zig will seemless integrates with C/C++ code out of the box. \n",
    "    - This would be useful for a getting libraries in a lesser known language.\n",
    "\n",
    "\n",
    "\n"
   ]
  },
  {
   "cell_type": "markdown",
   "metadata": {},
   "source": [
    "<style> p { max-width: 500px; } </style>\n",
    "\n",
    "## Installation\n",
    "\n",
    "I followed the links to the downloads page.\n",
    "\n",
    "Seems like a direct download is the best option... I don't really want one of those \"years out-of-date\" packages you get on APT. Especially for something rapidly developing like this. \n",
    "\n",
    "Hopefully it can bootstrap its own updates though... I'm never going to remember to redownload it.\n",
    "\n",
    "No installation instructions, seems to be one of those \"just throw it anywhere and add it to the path\" type packages.\n",
    "\n",
    "I added it to the path, and run the hello world test.\n",
    "\n",
    "No problems, a smooth install.\n",
    "\n"
   ]
  },
  {
   "cell_type": "markdown",
   "metadata": {},
   "source": [
    "<style> p { max-width: 500px; } </style>\n",
    "\n",
    "## Jupyter Kernel\n",
    "\n",
    "I'm probably going to need to use this code in workbooks.\n",
    "\n",
    "Looks like there's a small project, and I'm not totally confident in it, but there's nothing to lose by trying.\n",
    "\n",
    "I downloaded the kernel from here: https://gitlab.com/nicolalandro/jupyter-zig-kernel\n",
    "\n",
    "The install seems to work, but there was a small hickup. \n",
    "\n",
    "The `install_zig_kernel` command failed, because it is executable with no shebang. This lead to it failing when the shell attempted to run it as a *shell script* when it's actually a python file. \n",
    "\n",
    "Putting a `python` command before the filename seems to work. \"Zig\" appeared on the Jupyer server."
   ]
  }
 ],
 "metadata": {
  "language_info": {
   "name": "python"
  }
 },
 "nbformat": 4,
 "nbformat_minor": 2
}
