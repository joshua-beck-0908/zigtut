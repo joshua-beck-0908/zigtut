{
 "cells": [
  {
   "cell_type": "markdown",
   "metadata": {},
   "source": [
    "<style> p { max-width: 500px; } </style>\n",
    "\n",
    "# Zig Guide\n",
    "\n",
    "Zig's official website recommended the [zig.guide](https://zig.guide/) site.\n",
    "\n",
    "The guide assumes you are already an experience programmer.\n",
    "\n",
    "I support if you're searching out a lesser known language then you probably are.\n",
    "\n",
    "Just checking my tooling:"
   ]
  },
  {
   "cell_type": "markdown",
   "metadata": {},
   "source": [
    "```shell\n",
    "zig version\n",
    "0.13.0\n",
    "```"
   ]
  },
  {
   "cell_type": "markdown",
   "metadata": {},
   "source": [
    "<style> p { max-width: 500px; } </style>\n",
    "\n",
    "## [Hello World](https://zig.guide/getting-started/hello-world)\n",
    "\n",
    "Well it's refreshing to get to this point to soon.\n",
    "\n"
   ]
  },
  {
   "cell_type": "code",
   "execution_count": 5,
   "metadata": {},
   "outputs": [
    {
     "name": "stderr",
     "output_type": "stream",
     "text": [
      "Hello World!"
     ]
    },
    {
     "name": "stdout",
     "output_type": "stream",
     "text": []
    }
   ],
   "source": [
    "// Double slash seems to work as comments!\n",
    "\n",
    "// So this seems to be their method of importing...\n",
    "// It seems a little weird and javascript-y.\n",
    "// e.g. a special keyword that returns a module object then bound to a const var\n",
    "// Also kinda Rust-like.\n",
    "const std = @import(\"std\");\n",
    "\n",
    "// C-style main function declaration. \n",
    "// Interestingly there's a function keyboard with what looks like the return \n",
    "// type coming afterwards. \n",
    "// Actually, I like this style better.\n",
    "pub fn main() void {\n",
    "    // `std.debug`??? Is this the \"normal\" print function?\n",
    "    // Is this inspired by C or Javascript? Make up your mind!\n",
    "    // `{s}` for \"string\"? I'm not a fan of this printf-style. \n",
    "    // Something like f-string usually work a lot better.\n",
    "    // Any uh... why is the parameter in curly brackets with a dot at the front.\n",
    "    std.debug.print(\"Hello {s}!\", .{\"World\"});\n",
    "}\n"
   ]
  },
  {
   "cell_type": "markdown",
   "metadata": {},
   "source": [
    "<style> p { max-width: 500px; } </style>\n",
    "\n",
    "I'm really confused by this coding style.\n",
    "\n",
    "At least the Jupyter kernel is working.\n",
    "\n",
    "It seems like the print function uses the format ```print(arg_string, .{args})```.\n",
    "\n",
    "So the list is inside curly brackets. \n",
    "\n",
    "Only you can prevent wildf- err... variadic functions?\n",
    "\n",
    "\n"
   ]
  },
  {
   "cell_type": "markdown",
   "metadata": {},
   "source": [
    "<style> p { max-width: 500px; } </style>\n",
    "\n",
    "## [Running Tests](https://zig.guide/getting-started/running-tests)\n",
    "\n",
    "Whaaaa? Already?\n",
    "\n",
    "On the otherhand it's never too early to learn tests in a programming language.\n",
    "\n",
    "Maybe next I can learn about branching and assignment.\n"
   ]
  },
  {
   "cell_type": "markdown",
   "metadata": {},
   "source": [
    "<style> p { max-width: 500px; } </style>\n",
    "\n",
    "```zig\n",
    "// This'll get tiresome...\n",
    "const std = @import(\"std\");\n",
    "// I guess it's a namespace now?\n",
    "const expect = std.testing.expect;\n",
    "\n",
    "// Oh huh, a built in test keyword. That's handy.\n",
    "test \"always succeeds\" {\n",
    "    // What does `try` actually do in this context?\n",
    "    // I presume it's not related to Python's try.\n",
    "    try expect(true);\n",
    "}\n",
    "```\n",
    "\n",
    "I saved an ran it with:\n",
    "```sh\n",
    "zig test test_pass.zig\n",
    "```\n",
    "```\n",
    "All 1 tests passed.\n",
    "```\n",
    "\n",
    "The run test arrows are there, but the VS Code language server doesn't seem to be working. It can't seems to find my Zig installation.\n",
    "\n",
    "```Unable to run test without Zig```\n",
    "\n",
    "So for now I'm using terminal commands.\n",
    "\n",
    "Oh, nevermind. I just had to set VSCode's `zig.path` setting.\n",
    "\n",
    "The VSCode plugin integration is surprisingly good for a language of Zig's size. It really feels like using a plugin from a top tier language.\n",
    "\n",
    "The failing test example is just the same code, but with `expect(false)`.\n",
    "\n",
    "This seems to report the test error reasonable well.\n",
    "\n",
    "The testing setup seems a lot easier an more natural so far than most languages.\n",
    "\n",
    "I'm all about that TDD life. \n",
    "\n",
    "The tutorial encouraged me to see what happens without the `try` keyword. \n",
    "\n",
    "And, like Yoda it complained that there is no try. Or 'catch', or 'if'.\n",
    "\n",
    "So the testing language seems flexible. "
   ]
  }
 ],
 "metadata": {
  "kernelspec": {
   "display_name": "Zig",
   "language": "",
   "name": "zig"
  },
  "language_info": {
   "file_extension": ".zig",
   "mimetype": "text/plain",
   "name": "zig"
  }
 },
 "nbformat": 4,
 "nbformat_minor": 2
}
