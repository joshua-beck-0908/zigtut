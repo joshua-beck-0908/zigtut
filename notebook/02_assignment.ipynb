{
 "cells": [
  {
   "cell_type": "markdown",
   "metadata": {},
   "source": [
    "<style> p { max-width: 500px; } </style>\n",
    "\n",
    "# [Assigment](https://zig.guide/language-basics/assignment)\n",
    "\n",
    "The assignment style is:\n",
    "\n",
    "`(const|var) identifier[: type] = value`\n",
    "\n",
    "So it's a similar \"Haskell-style\" typing system you get in Python.\n",
    "\n",
    "Like in Rust, type annotations may be left out if the type is unambiguous; but must be used otherwise.\n",
    "\n",
    "No implicit declarations, you always have to put `var` (or `const`) before the variable if you are defining one. Good stuff, explicit is best. 👍\n",
    "\n",
    "There's no assumed value. You must specify this every time. If no value can be determined `undefined` can be used.\n",
    "\n",
    "I'm not sure how to feel about that one.\n",
    "\n",
    "Oh. Oh no.\n",
    "\n",
    "It says `undefined` is literally undefined behaviour not a magic constant.\n",
    "\n",
    "Well... that's something to avoid at all cost. Well, there's no harm in just used a zero or empty quote."
   ]
  },
  {
   "cell_type": "markdown",
   "metadata": {},
   "source": [
    "<style> p { max-width: 500px; } </style>\n",
    "\n",
    "So uh, there's no discussion on what types are actually valid. \n",
    "\n",
    "It seems similar to Rust in that you can use `(u/i)(bits)`.\n",
    "e.g. i64 for a signed 64-bit type.\n",
    "\n",
    "So you'd do something like:\n",
    "\n",
    "```zig\n",
    "// I have three money.\n",
    "const number_of_money: u32 = 3;\n",
    "\n",
    "const initial_bottles_of_beer_on_wall: u64 = 99;\n",
    "// Implied to be u64\n",
    "var current_bottles_of_beer_on_wall = initial_bottles_of_beer_on_wall;\n",
    "```\n",
    "\n",
    "Types can be converted with `@as(type, variable)`.\n",
    "\n",
    "Seems like a more logical than `cast`. \n",
    "\n",
    "But what's with the at-symbol?\n",
    "\n",
    "I'm seeing a lot of... magic symbols.\n",
    "\n",
    "Hopefully this'll all make sense later.\n",
    "\n",
    "```zig\n",
    "var rabbits: u32;\n",
    "var rabbit_holes = @as(u64, rabbits);\n",
    "```\n",
    "\n"
   ]
  }
 ],
 "metadata": {
  "language_info": {
   "name": "python"
  }
 },
 "nbformat": 4,
 "nbformat_minor": 2
}
