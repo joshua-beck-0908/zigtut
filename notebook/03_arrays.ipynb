{
 "cells": [
  {
   "cell_type": "markdown",
   "metadata": {
    "vscode": {
     "languageId": "plaintext"
    }
   },
   "source": [
    "<style> p { max-width: 500px; } </style>\n",
    "\n",
    "# [Arrays](https://zig.guide/language-basics/arrays)\n",
    "\n",
    "Arrays use an `[element_count]element_type` format.\n",
    "\n",
    "Like so:\n",
    "\n",
    "```zig\n",
    "var unbob = [5]u8{ 'S', 'O', 'L', 'I', 'D' };\n",
    "const perfect_squares = [_]u8{ 1, 4, 9, 16, 25, 36, 49, 64, 81, 100 };\n",
    "```\n",
    "\n",
    "Putting the number of elements first is... really weird.\n",
    "\n",
    "I'm used to styles like `type name[size] =` or `name: type[size] = `, but never `name = [size]type`.\n",
    "\n",
    "It feels really unnatural to put the count before the type; or to put a bracketed size before the thing it represents...\n",
    "\n",
    "Anyway you can also get the array length with `array_name.len`."
   ]
  },
  {
   "cell_type": "code",
   "execution_count": 25,
   "metadata": {},
   "outputs": [
    {
     "name": "stderr",
     "output_type": "stream",
     "text": [
      "SOLID\n",
      "{ 1, 4, 9, 16, 25, 36, 49, 64, 81, 100 }\n",
      "Length: 10\n"
     ]
    },
    {
     "name": "stdout",
     "output_type": "stream",
     "text": []
    }
   ],
   "source": [
    "const std = @import(\"std\");\n",
    "\n",
    "pub fn main() void {\n",
    "    const unbob = [5]u8{ 'S', 'O', 'L', 'I', 'D' };\n",
    "    const perfect_squares = [_]u8{ 1, 4, 9, 16, 25, 36, 49, 64, 81, 100 };\n",
    "    std.debug.print(\"{s}\\n\", .{unbob});\n",
    "    std.debug.print(\"{d}\\n\", .{perfect_squares});\n",
    "    std.debug.print(\"Length: {d}\\n\", .{perfect_squares.len});\n",
    "}\n"
   ]
  },
  {
   "cell_type": "markdown",
   "metadata": {},
   "source": [
    "<style> p { max-width: 500px; } </style>\n",
    "\n",
    "Wow, this print statement is a pain in the butt to use.\n",
    "\n",
    "It has a long name, only accepts two parameters, and the arguments need to be surrounded by extra symbols.\n",
    "\n",
    "But though some trial and error it seems \"s\" is for string, and \"d\" is for \"dumber\".\n",
    "\n",
    "It seems to correctly detect and display arrays of numbers, and letters as strings.\n"
   ]
  },
  {
   "cell_type": "markdown",
   "metadata": {},
   "source": [
    "<style> p { max-width: 500px; } </style>\n",
    "\n",
    "Well, that's literally all the information they have.\n",
    "\n",
    "I'll head on to the next chapter to learn more of this disturbing syntax."
   ]
  }
 ],
 "metadata": {
  "kernelspec": {
   "display_name": "Zig",
   "language": "",
   "name": "zig"
  },
  "language_info": {
   "file_extension": ".zig",
   "mimetype": "text/plain",
   "name": "zig"
  }
 },
 "nbformat": 4,
 "nbformat_minor": 2
}
