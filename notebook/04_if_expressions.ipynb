{
 "cells": [
  {
   "cell_type": "markdown",
   "metadata": {},
   "source": [
    "<style> p { max-width: 500px; } </style>\n",
    "\n",
    "# [If Expressions](https://zig.guide/language-basics/if)\n",
    "\n",
    "In Zig there is no implicit coersion to `bool` in `if` statements.\n",
    "\n",
    "You have to explicitly check if a variable is zero. And no ternary operators.\n",
    "\n",
    "Well good.\n",
    "\n",
    "I've seem people check for a null-string, zero value, and false result all in the same line with an `if (a || b || c)` style, and let me tell you it is horrific.\n",
    "\n",
    "Or just put some long-arse statement in a ternary operator.\n",
    "\n",
    "Anyway... it seems you do some pretty standard:\n",
    "`if (condition) { code } else if ( condition ) { code } else { code }`\n",
    "\n",
    "So no surprises there.\n",
    "\n",
    "Equals operators are also pretty much what you'd expect like `x == 1`.\n",
    "\n",
    "\n",
    "\n"
   ]
  },
  {
   "cell_type": "code",
   "execution_count": 8,
   "metadata": {},
   "outputs": [
    {
     "name": "stderr",
     "output_type": "stream",
     "text": [
      "Random number is: 4\n",
      "You have reasonable luck.\n"
     ]
    },
    {
     "name": "stdout",
     "output_type": "stream",
     "text": []
    }
   ],
   "source": [
    "const std = @import(\"std\");\n",
    "\n",
    "pub fn main() void {\n",
    "    const random_number = get_random_number();\n",
    "    std.debug.print(\"Random number is: {d}\\n\", .{random_number});\n",
    "    if (random_number >= 5) {\n",
    "        std.debug.print(\"You are luck.\\n\", .{});\n",
    "    } else if (random_number >= 3) {\n",
    "        std.debug.print(\"You have reasonable luck.\\n\", .{});\n",
    "    } else {\n",
    "        std.debug.print(\"You are unlucky.\\n\", .{});\n",
    "    }\n",
    "}\n",
    "\n",
    "pub fn get_random_number() u8 {\n",
    "    // TODO: Find out how to do random numbers.\n",
    "    return 4;  // chosen by fair dice roll.\n",
    "               // guaranteed to be random.\n",
    "}"
   ]
  },
  {
   "cell_type": "markdown",
   "metadata": {},
   "source": []
  }
 ],
 "metadata": {
  "kernelspec": {
   "display_name": "Zig",
   "language": "",
   "name": "zig"
  },
  "language_info": {
   "file_extension": ".zig",
   "mimetype": "text/plain",
   "name": "zig"
  }
 },
 "nbformat": 4,
 "nbformat_minor": 2
}
