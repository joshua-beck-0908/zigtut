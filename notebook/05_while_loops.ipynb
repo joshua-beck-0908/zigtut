{
 "cells": [
  {
   "cell_type": "markdown",
   "metadata": {},
   "source": [
    "<style> * { max-width: 500px; } </style>\n",
    "\n",
    "# [While loops](https://zig.guide/language-basics/while-loops)\n",
    "\n",
    "The first example has what seems like a pretty standard C-style while loop:\n",
    "\n",
    "```zig\n",
    "const expect = @import(\"std\").testing.expect;\n",
    "\n",
    "test \"while\" {\n",
    "    var i: u8 = 2;\n",
    "    while (i < 100) {\n",
    "        i *= 2;\n",
    "    }\n",
    "    try expect(i == 128);\n",
    "}\n",
    "```\n",
    "\n",
    "(They definitely love putting everything in test blocks.)\n",
    "\n",
    "You have a boolean condition in parenthesis, followed by a block in curly brackets. \n",
    "\n",
    "I don't think you can do single line stuff?\n",
    "\n",
    "Interestingly the loop variable is defined outside the loop.\n",
    "\n",
    "Is it not possible to define a throwaway variable only used for the loop?\n",
    "\n",
    "I created program ['test_loop'](../src/02_loopy/test_loop.zig) in '02_loopy' to test this syntax.\n",
    "\n"
   ]
  },
  {
   "cell_type": "markdown",
   "metadata": {},
   "source": [
    "<style> * { max-width: 500px; } </style>\n",
    "\n",
    "The next syntax lets you also add a \"continue condition\":\n",
    "\n",
    "```zig\n",
    "const expect = @import(\"std\").testing.expect;\n",
    "\n",
    "test \"while with continue expression\" {\n",
    "    var sum: u8 = 0;\n",
    "    var i: u8 = 1;\n",
    "    while (i <= 10) : (i += 1) {\n",
    "        sum += i;\n",
    "    }\n",
    "    try expect(sum == 55);\n",
    "}\n",
    "```\n",
    "\n",
    "This seems to be a statement that is executed after every loop.\n",
    "\n",
    "So it's kind of like an alternate version of a `for` loop?\n",
    "\n",
    "I think this syntax is a lot clearer than the classic for loop.\n",
    "\n",
    "Just expression or are other actions possible.\n",
    "\n",
    "I added to the bagel program in ['test_loop'](../src/02_loopy/test_loop.zig) to try this out.\n",
    "\n",
    "The `continue` **statement** and `break` are also supported withing the loop. The continue expression is still run.\n",
    "\n",
    "Overall I like it, this is an interesting take one the while loop that combines with integrates the classic for loop. No mention of a *for-each* style loop just yet.\n"
   ]
  }
 ],
 "metadata": {
  "kernelspec": {
   "display_name": "Zig",
   "name": "zig"
  },
  "language_info": {
   "name": "python"
  }
 },
 "nbformat": 4,
 "nbformat_minor": 2
}
